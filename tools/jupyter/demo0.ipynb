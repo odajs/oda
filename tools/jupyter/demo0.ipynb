{
    "cells": [
        {
            "cell_type": "code",
            "source": ["a = 100;"],
            "metadata": {
                "id": "000021"
            }
        },
        {
            "cell_type": "code",
            "source": ["a = 200;"],
            "metadata": {
                "id": "00002"
            }
        }
    ]
}

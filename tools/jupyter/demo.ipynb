{
    "cells": [
        {
            "cell_type": "code",
            "source": "<h2>Counter demo</h2>\n<span>counts: </span> \n<span id=\"counter\">0</span>\n<script type=\"module\">\n    let upto=0;\n    const counter = document.getElementById(\"counter\");\n    setInterval(() => {\n    \t counter.innerHTML=++upto;\n    }, 100)\n</script>",
            "metadata": {
                "id": "d79407990f",
                "autoRun": true,
                "hideCode": true,
                "border": "none",
                "mode": "html"
            }
        },
        {
            "cell_type": "text",
            "source": "Markdown editor\n---\n___\n\n$x=\\frac{ -b\\pm\\sqrt{ b^2-4ac } } {2a}$\n\n$$x=\\frac{ -b\\pm\\sqrt{ b^2-4ac } } {2a}$$\n\n$E=mc^2$\n---\n\n___\n\n"
        },
        {
            "cell_type": "code",
            "source": "\n<h2 style=\"color: red; text-align: center; height: 50px;\">HTML code</h2>\n<oda-component></oda-component>\n\n<script type=\"module\">\n    const a = Math.floor(Math.random() * 100);\n    const b = Math.floor(Math.random() * 100);\n    \n    console.log('a = ', a);\n    console.log('b = ', b);\n    console.log('a + b = ', a + b);\n    \n    document.querySelector(\"h2\").innerText = 'a + b = ' + (a + b);\n     \n    ODA({ is: 'oda-component', template:`ODA component` })\n</script>\n",
            "metadata": {
                "mode": "html",
                "autoRun": true,
                "theme": "cobalt",
                "hideRun": true,
                "readOnly": true,
                "border": "none"
            }
        },
        {
            "cell_type": "code",
            "source": "\nconst a = Math.floor(Math.random() * 100);\nconst b = Math.floor(Math.random() * 100);\n\nconsole.log('a = ', a);\nconsole.log('b = ', b);\nconsole.log('a + b = ', a + b);\n\nc = a + b;\n\nc\n",
            "metadata": {
                "mode": "javascript"
            }
        },
        {
            "cell_type": "code",
            "source": "\nd = Math.floor(Math.random() * 10);\nd = c * d;\nconsole.log('c = ', c);\nconsole.log('d = ', d);\nconsole.log('c * d = ', d);\n\nd\n",
            "mode": "javascript",
            "metadata": {
                "mode": "javascript"
            }
        },
        {
            "cell_type": "code",
            "source": "\ne = Math.floor(Math.random() * 10);\n\nconsole.log('c = ', c);\nconsole.log('d = ', d);\nconsole.log('e = ', e);\nconsole.log('c * d * e = ', c * d * e);\n\nresult = c * d * e;\n\nresult\n",
            "mode": "javascript",
            "metadata": {
                "mode": "javascript"
            }
        },
        {
            "cell_type": "code",
            "source": "\nlog('log');\ninfo('info');\nwarn('warn');\nerror('error');\nprint('print');\n\nprint\n",
            "mode": "javascript",
            "metadata": {
                "mode": "javascript"
            }
        },
        {
            "cell_type": "text",
            "source": "\n<center style=\"padding-top: 12px\"><iframe width=\"560\" height=\"315\" src=\"https://www.youtube.com/embed/s8TpfgE0iVU?si=abBy5OU9nu5pi2Jj&amp;controls=0\" title=\"YouTube video player\" frameborder=\"0\" allow=\"accelerometer; autoplay; clipboard-write; encrypted-media; gyroscope; picture-in-picture; web-share\" allowfullscreen></iframe></center>\n"
        }
    ]
}

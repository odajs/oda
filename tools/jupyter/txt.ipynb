{
    "cells": [
        {
            "cell_type": "text",
            "source": ["### text-1"],
            "metadata": {
                "id": "text-1"
            }
        },
        {
            "cell_type": "text",
            "source": ["### text-2"],
            "metadata": {
                "id": "text-2"
            }
        },
        {
            "cell_type": "text",
            "source": ["### text-3"],
            "metadata": {
                "id": "text-3"
            }
        },
        {
            "cell_type": "text",
            "source": ["### text-4"],
            "metadata": {
                "id": "text-4"
            }
        },
        {
            "cell_type": "code",
            "source": [">'123'\n>'456'\n>'789'\n>'000'"],
            "metadata": {
                "id": "code-1"
            }
        },
        {
            "cell_type": "code",
            "source": [">out = new Float32Array(14820)"],
            "metadata": {
                "id": "code-1"
            }
        }
    ]
}
{
    "cells": [
        {
            "cell_type": "code",
            "source": "import('https://cdn.jsdelivr.net/npm/dayjs@1/dayjs.min.js')\nd = dayjs().format()\nlog(d)",
            "metadata": {
                "id": "c4d41de620",
                "mode": "javascript"
            }
        },
        {
            "cell_type": "code",
            "source": "d",
            "metadata": {
                "id": "1119c00acc5",
                "mode": "javascript"
            }
        },
        {
            "cell_type": "code",
            "source": "d = new Date()\r\nday = dayjs(d)\r\nlog(day)",
            "metadata": {
                "id": "4c0a84423",
                "mode": "javascript"
            }
        },
        {
            "cell_type": "code",
            "source": "log(d)\nlog(day)",
            "metadata": {
                "id": "70d642a6a3",
                "mode": "javascript"
            }
        }
    ]
}
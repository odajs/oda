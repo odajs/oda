{
    "cells": [
        {
            "cell_type": "html",
            "source": ["<h1><span style=\"color: rgb(255, 0, 221); font-family: &quot;Comic Sans MS&quot;\">HTML editor</span></h1><h1><span style=\"color: rgb(255, 0, 221); font-family: &quot;Comic Sans MS&quot;\">HTML editor</span></h1><h1><span style=\"color: rgb(255, 0, 221); font-family: &quot;Comic Sans MS&quot;\">HTML editor</span></h1>"],
            "metadata": {
                "id": "808491dbe2",
                "previewMode": "iframe",
                "isEditMode": true,
                "editorHeight": "300px"
            }
        },
        {
            "cell_type": "code",
            "outputs": [],
            "source": "\ntop.color = 'red'\nprint(`top.color = ${top.color}`)\nprint('x '.repeat(512), '\\n x '.repeat(512))\nfor (var i = 0; i < 100; i++) { print(Math.pow(2, i)) }\n",
            "metadata": {
                "id": "wDlWLbfkJtvu"
            }
        },
        {
            "cell_type": "code",
            "outputs": [],
            "source": "import {NeuroModule, nm, BinLayer} from 'http://127.0.0.1:5500/web/oda/apps/neuronet/genius/neuro-module/neuro-module.js';\nimport {tensor} from 'http://127.0.0.1:5500/web/oda/apps/neuronet/genius/torus/torus.js';",
            "metadata": {
                "id": "efgdpoipoi"
            }
        },
        {
            "cell_type": "code",
            "outputs": [],
            "source": "    let _x = 50;\n    let _k = 30;\n    let _y = 100;\n    let _z = 200;\n    let _m = 70;\nx = tensor.param(tensor.arange([_x, _k, _m]))\nprint(x.toString())\ny = tensor.param(tensor.arange([_y, _x]))\nz = tensor.param(tensor.arange([_z, _y]))\n//print(y)\nres = tensor.einsum('xkm, yx, zy, xkm->ykz', [x, y, z, x])\nprint(res.toString())\n//res.back(res.data);\n//print(x.grad, y.grad\n",
            "metadata": {
                "id": "efgdpoipoi"
            }
        }
    ]
}
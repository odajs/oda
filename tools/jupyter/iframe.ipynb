{
    "cells": [
        {
            "cell_type": "html",
            "source": ["\n<style>\n    h1 { color: violet; }\n    .counter { font-size: 32px; color: violet; }\n</style>\n\n<oda-mnist1></oda-mnist1>\n\n<h1>Counter demo</h1>\n<span>counts: </span>\n<span id=\"counter\" class=\"counter\">0</span>\n\n<script type=\"module\">\n    let upto = 0;\n    setInterval(() => {\n        counter.innerHTML = ++upto;\n    }, 100)\n\n    import '/web/oda/oda.js'\n    ODA({is: 'oda-mnist1', imports: '@oda/button', template: /*html*/ `\n            <style>\n                oda-button {\n                    font-size: 32px;\n                    margin: 8px;\n                    border: 2px solid {{color}};\n                    color: {{color}};\n                }\n            </style>\n            <oda-button @tap=\"restart\">restart counter</oda-button>\n        `,\n        get color() { return top.color || 'blue' },\n        restart() {\n            console.log('mnist - ', top.mnist);\n            console.log('upto - ', upto);\n            upto = 0;\n        }\n    \n    })\n</script>\n"],
            "metadata": {
                "id": "808491dbe2",
                "previewMode": "iframe",
                "isEditMode": true,
                "editorHeight": "300px"
            }
        },
        {
            "cell_type": "code",
            "outputs": [],
            "source": "\ntop.color = 'red'\nprint(`top.color = ${top.color}`)\nlog('x '.repeat(128*128))\nwarn('x '.repeat(256*256))\nerr('x '.repeat(512*512))\nfor (var i = 0; i < 100; i++) { print(Math.pow(2, i)) }\n",
            "metadata": {
                "id": "wDlWLbfkJtvu"
            }
        }
    ]
}
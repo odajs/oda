{
    "cells": [
        {
            "cell_type": "html",
            "source": ["\n<style>\n    h1 { color: violet; }\n    .counter { font-size: 32px; color: violet; }\n</style>\n\n<oda-mnist1></oda-mnist1>\n\n<h1>Counter demo</h1>\n<span>counts: </span>\n<span id=\"counter\" class=\"counter\">0</span>\n\n<script type=\"module\">\n    let upto = 0;\n    setInterval(() => {\n        counter.innerHTML = ++upto;\n    }, 100)\n\n    import '/web/oda/oda.js'\n    ODA({is: 'oda-mnist1', imports: '@oda/button', template: /*html*/ `\n            <style>\n                oda-button {\n                    font-size: 32px;\n                    margin: 8px;\n                    border: 2px solid {{color}};\n                    color: {{color}};\n                }\n            </style>\n            <oda-button @tap=\"restart\">restart counter</oda-button>\n        `,\n        get color() { return top.color || 'blue' },\n        restart() {\n            console.log('mnist - ', top.mnist);\n            console.log('upto - ', upto);\n            upto = 0;\n        }\n    \n    })\n</script>\n"],
            "metadata": {
                "id": "808491dbe2",
                "previewMode": "iframe",
                "isEditMode": true,
                "editorHeight": "300px"
            }
        },
        {
            "cell_type": "code",
            "outputs": [],
            "source": "\ntop.color = 'red'\nprint(`top.color = ${top.color}`)\nlog('x '.repeat(128*128))\nwarn('x '.repeat(256*256))\nerr('x '.repeat(512*512))\nfor (var i = 0; i < 100; i++) { print(Math.pow(2, i)) }\n",
            "metadata": {
                "id": "wDlWLbfkJtvu"
            }
        },
        {
            "cell_type": "code",
            "outputs": [],
            "source": "import {NeuroModule, nm, BinLayer} from 'http://127.0.0.1:5500/web/oda/apps/neuronet/genius/neuro-module/neuro-module.js';\nimport {tensor} from 'http://127.0.0.1:5500/web/oda/apps/neuronet/genius/torus/torus.js';",
            "metadata": {
                "id": "efgdpoipoi"
            }
        },
        {
            "cell_type": "code",
            "outputs": [],
            "source": "    let _x = 50;\n    let _k = 30;\n    let _y = 100;\n    let _z = 200;\n    let _m = 70;\nx = tensor.param(tensor.arange([_x, _k, _m]))\nprint(x.toString())\ny = tensor.param(tensor.arange([_y, _x]))\nz = tensor.param(tensor.arange([_z, _y]))\n//print(y)\nres = tensor.einsum('xkm, yx, zy, xkm->ykz', [x, y, z, x])\nprint(res.toString())\n//res.back(res.data);\n//print(x.grad, y.grad\n",
            "metadata": {
                "id": "efgdpoipoi"
            }
        }
    ]
}
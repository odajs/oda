{
    "cells": [
        {
            "cell_type": "code",
            "hideRun": true,
            "source": "ODA({ is: 'oda-component-1', imports: '@oda/button', template:`<div style=\"color: blue\">ODA component 1</div>` })"
        },
        {
            "cell_type": "code",
            "hideRun": true,
            "source": "ODA({ is: 'oda-component-2', imports: '@oda/button', template:`<div style=\"color:  red\">ODA component 2</div>` })"
        },
        {
            "cell_type": "code",
            "source": "<oda-component-1></oda-component-1>\n<oda-component-2></oda-component-2>"
        }
    ]
}
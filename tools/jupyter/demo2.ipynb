{
    "cells": [
        {
            "cell_type": "text",
            "source": "Import ...",
            "metadata": {
                "id": "c98c5061aa"
            }
        },
        {
            "cell_type": "code",
            "source": "// import '/web/oda/components/buttons/button/button.js';\n// import '../../components/buttons/button/button.js';\nimport '@oda/button';\nimport '@oda/palette';",
            "metadata": {
                "id": "c98c5061aa",
                "hideRun": true,
                "mode": "javascript",
                "isODA": true,
                "theme": "solarized_light",
                "showGutter": true
            }
        },
        {
            "cell_type": "text",
            "source": "Первый компонент :",
            "metadata": {
                "id": "6632470c09"
            }
        },
        {
            "cell_type": "code",
            "source": "ODA({ is: 'oda-test-component-1',\n    template: `\n        <div class=\"vertical center\">\n            <oda-palette id=\"palette\" :colors=\"numb\" :gradients=\"numb\"></oda-palette>\n            <div class=\"horizontal center\">\n                <oda-button ~style=\"{color: color2}\" style=\"font-size: xxx-large\" @tap=\"numb--\">-</oda-button>\n                <oda-button ~style=\"{color}\" style=\"font-size: xxx-large\" @tap=\"numb++\">+</oda-button>\n            </div>\n        </div>\n    `,\n    numb: 15,\n    color2: 'red',\n    color: 'blue'\n})",
            "metadata": {
                "id": "6632470c09",
                "hideRun": true,
                "mode": "javascript",
                "isODA": true,
                "showGutter": true,
                "theme": "solarized_light"
            }
        },
        {
            "cell_type": "text",
            "source": "Результат :",
            "metadata": {
                "id": "afd649fcfa"
            }
        },
        {
            "cell_type": "code",
            "source": "<oda-test-component-1></oda-test-component-1>",
            "metadata": {
                "id": "6632470c09",
                "mode": "html",
                "isODA": false,
                "theme": "xcode"
            }
        },
        {
            "cell_type": "text",
            "source": "Новый компонент :",
            "metadata": {
                "id": "c2ffeac9f7"
            }
        },
        {
            "cell_type": "code",
            "source": "ODA({ is: 'oda-test-component-2', extends: 'oda-test-component-1', \n    numb: '10', color2: 'orange', color: 'green' \n})",
            "metadata": {
                "id": "8362c1577f",
                "mode": "javascript",
                "isODA": false,
                "hideRun": true,
                "theme": "solarized_light",
                "showGutter": true
            }
        },
        {
            "cell_type": "text",
            "source": "Результат :",
            "metadata": {
                "id": "18bdc03caac"
            }
        },
        {
            "cell_type": "code",
            "source": "<oda-test-component-2></oda-test-component-2>",
            "metadata": {
                "id": "24c9955606",
                "mode": "html",
                "isODA": false,
                "theme": "xcode"
            }
        },
        {
            "cell_type": "text",
            "source": "Еще результат :",
            "metadata": {
                "id": "c78ffc3523"
            }
        },
        {
            "cell_type": "code",
            "source": "<div class=\"horizontal flex center\">\n    <oda-test-component-2></oda-test-component-2>\n    <oda-test-component-1></oda-test-component-1>\n    <oda-test-component-2 numb=\"20\"></oda-test-component-2>\n</div>",
            "metadata": {
                "id": "a80a82ef2a",
                "mode": "html"
            }
        }
    ]
}

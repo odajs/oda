{
    "cells": [
        {
            "cell_type": "text",
            "source": "Первый компонент:",
            "metadata": {
                "id": "c98c5061aa"
            }
        },
        {
            "cell_type": "code",
            "hideRun": true,
            "source": "// import '/web/oda/components/buttons/button/button.js';\n// import '../../components/buttons/button/button.js';\nimport '@oda/button';\n\nODA({ is: 'oda-component-1',\n// ODA({ is: 'oda-component-1', imports: '@oda/button',\n    template: `\n        <oda-button ~style=\"{color}\">Кнопка</oda-button>\n    `,\n    color: 'blue'\n})",
            "mode": "javascript",
            "isODA": true,
            "theme": "solarized_light",
            "showGutter": true
        },
        {
            "cell_type": "text",
            "source": "Второй компонент:",
            "metadata": {
                "id": "6632470c09"
            }
        },
        {
            "cell_type": "code",
            "hideRun": true,
            "source": "ODA({ is: 'oda-component-2', extends: 'oda-component-1', \n    color: 'red' \n})",
            "mode": "javascript",
            "isODA": true,
            "showGutter": true,
            "theme": "solarized_light"
        },
        {
            "cell_type": "text",
            "source": "Выведем оба компонента:",
            "metadata": {
                "id": "afd649fcfa"
            }
        },
        {
            "cell_type": "code",
            "source": "<oda-component-1></oda-component-1>\n<oda-component-2></oda-component-2>",
            "mode": "html",
            "isODA": false,
            "theme": "xcode"
        },
        {
            "cell_type": "text",
            "source": "Третий компонент:",
            "metadata": {
                "id": "c2ffeac9f7"
            }
        },
        {
            "cell_type": "code",
            "source": "ODA({ is: 'oda-component-3', extends: 'oda-component-2', \n    color: 'green' \n})",
            "metadata": {
                "id": "8362c1577f"
            },
            "mode": "javascript",
            "isODA": false,
            "hideRun": true,
            "theme": "solarized_light",
            "showGutter": true
        },
        {
            "cell_type": "text",
            "source": "Выведем все компоненты:",
            "metadata": {
                "id": "18bdc03caac"
            }
        },
        {
            "cell_type": "code",
            "source": "<oda-component-1></oda-component-1>\n<oda-component-2></oda-component-2>\n<oda-component-3></oda-component-3>",
            "metadata": {
                "id": "24c9955606"
            },
            "mode": "html",
            "isODA": false,
            "theme": "xcode"
        }
    ]
}

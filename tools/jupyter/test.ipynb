{
    "cells": [
        {
            "cell_type": "text",
            "source": "# Level 1",
            "metadata": {
                "id": "808491dbe2"
            }
        },
        {
            "cell_type": "text",
            "source": "Level 1",
            "metadata": {
                "id": ""
            }
        },
        {
            "cell_type": "text",
            "source": "## Level 2",
            "metadata": {
                "id": "3f9875d631"
            }
        },
        {
            "cell_type": "text",
            "source": "Level 2",
            "metadata": {
                "id": ""
            }
        },
        {
            "collapsed": true,
            "cell_type": "text",
            "source": "### Level 3",
            "metadata": {
                "id": "16a7c011d96"
            }
        },
        {
            "cell_type": "text",
            "source": "The Philosophy of Bayesian Inference\n------\n  \n> You are a skilled programmer, but bugs still slip into your code. After a particularly difficult implementation of an algorithm, you decide to test your code on a trivial example. It passes. You test the code on a harder problem. It passes once again. And it passes the next, *even more difficult*, test too! You are starting to believe that there may be no bugs in this code...\n\nIf you think this way, then congratulations, you already are thinking Bayesian! Bayesian inference is simply updating your beliefs after considering new evidence. A Bayesian can rarely be certain about a result, but he or she can be very confident. Just like in the example above, we can never be 100% sure that our code is bug-free unless we test it on every possible problem; something rarely possible in practice. Instead, we can test it on a large number of problems, and if it succeeds we can feel more *confident* about our code, but still not certain.  Bayesian inference works identically: we update our beliefs about an outcome; rarely can we be absolutely sure unless we rule out all other alternatives. ",
            "metadata": {
                "id": "16a7c011d96"
            }
        },
        {
            "collapsed": true,
            "cell_type": "text",
            "source": "### Level 3",
            "metadata": {
                "id": "7acd2d54b7"
            }
        },
        {
            "cell_type": "text",
            "source": "The Philosophy of Bayesian Inference\n------\n  \n> You are a skilled programmer, but bugs still slip into your code. After a particularly difficult implementation of an algorithm, you decide to test your code on a trivial example. It passes. You test the code on a harder problem. It passes once again. And it passes the next, *even more difficult*, test too! You are starting to believe that there may be no bugs in this code...\n\nIf you think this way, then congratulations, you already are thinking Bayesian! Bayesian inference is simply updating your beliefs after considering new evidence. A Bayesian can rarely be certain about a result, but he or she can be very confident. Just like in the example above, we can never be 100% sure that our code is bug-free unless we test it on every possible problem; something rarely possible in practice. Instead, we can test it on a large number of problems, and if it succeeds we can feel more *confident* about our code, but still not certain.  Bayesian inference works identically: we update our beliefs about an outcome; rarely can we be absolutely sure unless we rule out all other alternatives. ",
            "metadata": {
                "id": "bf2349250"
            }
        },
        {
            "cell_type": "code",
            "execution_count": null,
            "metadata": {
                "cellView": "form",
                "id": "wDlWLbfkJtvu"
            },
            "outputs": [],
            "source": [
                "#@title Copyright 2020 Google LLC. Double-click here for license information.\n",
                "# Licensed under the Apache License, Version 2.0 (the \"License\");\n",
                "# you may not use this file except in compliance with the License.\n",
                "# You may obtain a copy of the License at\n",
                "#\n",
                "# https://www.apache.org/licenses/LICENSE-2.0\n",
                "#\n",
                "# Unless required by applicable law or agreed to in writing, software\n",
                "# distributed under the License is distributed on an \"AS IS\" BASIS,\n",
                "# WITHOUT WARRANTIES OR CONDITIONS OF ANY KIND, either express or implied.\n",
                "# See the License for the specific language governing permissions and\n",
                "# limitations under the License."
            ]
        }
    ]
}
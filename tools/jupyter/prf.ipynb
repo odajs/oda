{
    "cells": [
        {
            "cell_type": "code",
            "source": [
                "// 0001\nITERATION_TOTAL = 10000000\n\niterations = ITERATION_TOTAL\n_myArray = Array.from(Array(iterations).keys())\n\ntotal = 0"
            ],
            "metadata": {
                "id": "0001",
                "hideOutput": false
            },
            "time": "391 ms",
            "state": "",
            "outputs": []
        },
        {
            "cell_type": "code",
            "source": [
                "// 0002\nconst myArray = _myArray\r\nlet total = 0\r\n\r\nconst start = performance.now()\r\n\r\nfor (let i = 0; i < myArray.length; i++) {\r\n  total += myArray[i]\r\n}\r\n\r\nconst end = performance.now()\r\n\r\nprint(`for - ${end - start} ms.`);\r\n"
            ],
            "metadata": {
                "id": "0002",
                "hideOutput": false
            },
            "time": "12 ms",
            "state": "",
            "outputs": [
                {
                    "data": {
                        "text/plain": "for - 11.5 ms."
                    }
                }
            ]
        },
        {
            "cell_type": "code",
            "source": [
                "// 0003\nconst myArray = _myArray\r\nlet total = 0\r\n\r\nconst start = performance.now()\r\n\r\nlet i = 0\r\n\r\nwhile (i < myArray.length) {\r\n  total += myArray[i]\r\n  i++\r\n}\r\n\r\nconst end = performance.now()\r\n\r\nprint(`while - ${end - start} ms.`);\r\n"
            ],
            "metadata": {
                "id": "0003",
                "hideOutput": false
            },
            "time": "25 ms",
            "state": "",
            "outputs": [
                {
                    "data": {
                        "text/plain": "while - 25.19999998807907 ms."
                    }
                }
            ]
        },
        {
            "cell_type": "code",
            "source": [
                "// 0004\nconst myArray = _myArray\r\nlet total = 0\r\n\r\nconst start = performance.now()\r\nfor (const item of myArray) {\r\n  total += item\r\n}\r\n\r\nconst end = performance.now()\r\n\r\nprint(`for of - ${end - start} ms.`);"
            ],
            "metadata": {
                "id": "0004",
                "hideOutput": false
            },
            "time": "125 ms",
            "state": "",
            "outputs": [
                {
                    "data": {
                        "text/plain": "for of - 124.6000000089407 ms."
                    }
                }
            ]
        },
        {
            "cell_type": "code",
            "source": [
                "// 0005\nconst myArray = _myArray\r\nlet total = 0\r\n\r\nconst start = performance.now()\r\n\r\nmyArray.forEach((item) => {\r\n  total += item\r\n})\r\n\r\nconst end = performance.now()\r\n\r\nprint(`forEach - ${end - start} ms.`);\r\n"
            ],
            "metadata": {
                "id": "0005",
                "hideOutput": false
            },
            "time": "142 ms",
            "state": "",
            "outputs": [
                {
                    "data": {
                        "text/plain": "forEach - 141.5 ms."
                    }
                }
            ]
        },
        {
            "cell_type": "code",
            "source": [
                "// 0006\nconst myArray = _myArray\r\nlet total = 0\r\n\r\nconst start = performance.now()\r\n\r\nmyArray.map((item) => {\r\n  total += item\r\n})\r\n\r\nconst end = performance.now()\r\n\r\nprint(`map - ${end - start} ms.`);\r\n"
            ],
            "metadata": {
                "id": "0006"
            },
            "time": "189 ms",
            "outputs": [
                {
                    "data": {
                        "text/plain": "map - 188.20000000298023 ms."
                    }
                }
            ]
        },
        {
            "cell_type": "code",
            "source": [
                "ODA({is:'oda-color', \n    template:`\n        <style>\n            :host{\n                @apply --vertical\n            }\n            button{\n                padding: 8px;\n                font-size: large;\n            }\n            .test{\n                --test-background: light-dark(oklch(from var(--main-color) 1 .01 h), oklch(from var(--main-color) l 2 h));\n                --test-color: light-dark(oklch(from var(--main-color) l 2 h), oklch(from var(--main-color) 1 .01 h));\n                \n                background-color: var(--test-background);\n                color: var(--test-color);\n                fill: var(--test-color);\n            }\n        </style>\n        <button ~for=\"vars\" ~class=\"$for.item\">{{$for.item}}</button>\n    `,\n    vars: ['test', 'header', 'dark', 'light']\n    \n})\n>this.createElement('oda-color')\n>this.createElement('oda-color')\n>this.createElement('oda-color')"
            ],
            "metadata": {
                "id": "ca3cb4754c"
            }
        },
        {
            "cell_type": "code",
            "source": [
                "f = `\n\n<div style=\"display: flex; flex-direction: column; margin: 8px\">\n    <progress value=\".3\"></progress>\n    <oda-color-2></oda-color-2>\n</div>\n\n<script type=\"module\">\n    import '../../oda.js'\n    ODA({is:'oda-color-2', \n        template:\\`\n            <style>\n                :host {\n                    @apply --vertical\n                }\n                button {\n                    padding: 8px;\n                    margin: 8px;\n                    font-size: large;\n                    height: 100px;\n                    width: 100px;\n                }\n                .test {\n                    --test-background: light-dark(oklch(from var(--main-color) 1 .01 h), oklch(from var(--main-color) l 2 h));\n                    --test-color: light-dark(oklch(from var(--main-color) l 2 h), oklch(from var(--main-color) 1 .01 h));\n                    \n                    background-color: var(--test-background);\n                    color: var(--test-color);\n                    fill: var(--test-color);\n                    padding: 8px;\n                    margin: 8px;\n                    border: 1px solid var(--test-color);\n                }\n                h3 {\n                    color: var(--test-color);\n                    padding-left: 8px; \n                }\n            </style>\n            <h3>oda-color-2</h3>\n            <div class=\"test\">\n                <progress :value></progress>\n                <button ~for=\"vars\" ~class=\"$for.item\">{{$for.item}}</button>\n            </div>\n        \\`,\n        vars: ['test', 'header', 'dark', 'light'],\n        value: 0.7\n    })\n\n<\\/script>\n\n`\n\nframe(f)\n"
            ],
            "metadata": {
                "id": "159708485e8",
                "hideOutput": false
            }
        }
    ]
}
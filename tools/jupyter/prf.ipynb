{
    "cells": [
        {
            "cell_type": "code",
            "source": [
                "// 0001\nITERATION_TOTAL = 10000000\n\niterations = ITERATION_TOTAL\n_myArray = Array.from(Array(iterations).keys())\n\ntotal = 0"
            ],
            "metadata": {
                "id": "0001",
                "hideOutput": false
            },
            "time": "371 ms",
            "state": "",
            "outputs": []
        },
        {
            "cell_type": "code",
            "source": [
                "// 0002\nconst myArray = _myArray\r\nlet total = 0\r\n\r\nconst start = performance.now()\r\n\r\nfor (let i = 0; i < myArray.length; i++) {\r\n  total += myArray[i]\r\n}\r\n\r\nconst end = performance.now()\r\n\r\nprint(`for - ${end - start} ms.`);\r\n"
            ],
            "metadata": {
                "id": "0002",
                "hideOutput": false
            },
            "time": "12 ms",
            "state": "",
            "outputs": [
                {
                    "data": {
                        "text/plain": "for - 11.300000011920929 ms."
                    }
                }
            ]
        },
        {
            "cell_type": "code",
            "source": [
                "// 0003\nconst myArray = _myArray\r\nlet total = 0\r\n\r\nconst start = performance.now()\r\n\r\nlet i = 0\r\n\r\nwhile (i < myArray.length) {\r\n  total += myArray[i]\r\n  i++\r\n}\r\n\r\nconst end = performance.now()\r\n\r\nprint(`while - ${end - start} ms.`);\r\n"
            ],
            "metadata": {
                "id": "0003",
                "hideOutput": false
            },
            "time": "11 ms",
            "state": "",
            "outputs": [
                {
                    "data": {
                        "text/plain": "while - 11.400000005960464 ms."
                    }
                }
            ]
        },
        {
            "cell_type": "code",
            "source": [
                "// 0004\nconst myArray = _myArray\r\nlet total = 0\r\n\r\nconst start = performance.now()\r\nfor (const item of myArray) {\r\n  total += item\r\n}\r\n\r\nconst end = performance.now()\r\n\r\nprint(`for of - ${end - start} ms.`);"
            ],
            "metadata": {
                "id": "0004",
                "hideOutput": false
            },
            "time": "124 ms",
            "state": "",
            "outputs": [
                {
                    "data": {
                        "text/plain": "for of - 124.19999998807907 ms."
                    }
                }
            ]
        },
        {
            "cell_type": "code",
            "source": [
                "// 0005\nconst myArray = _myArray\r\nlet total = 0\r\n\r\nconst start = performance.now()\r\n\r\nmyArray.forEach((item) => {\r\n  total += item\r\n})\r\n\r\nconst end = performance.now()\r\n\r\nprint(`forEach - ${end - start} ms.`);\r\n"
            ],
            "metadata": {
                "id": "0005",
                "hideOutput": false
            },
            "time": "141 ms",
            "state": "",
            "outputs": [
                {
                    "data": {
                        "text/plain": "forEach - 140.5 ms."
                    }
                }
            ]
        },
        {
            "cell_type": "code",
            "source": [
                "// 0006\nconst myArray = _myArray\r\nlet total = 0\r\n\r\nconst start = performance.now()\r\n\r\nmyArray.map((item) => {\r\n  total += item\r\n})\r\n\r\nconst end = performance.now()\r\n\r\nprint(`map - ${end - start} ms.`);\r\n"
            ],
            "metadata": {
                "id": "0006"
            },
            "time": "189 ms",
            "outputs": [
                {
                    "data": {
                        "text/plain": "map - 189.39999997615814 ms."
                    }
                }
            ]
        },
        {
            "cell_type": "code",
            "source": [
                "ODA({is:'oda-color', \n    template:`\n        <style>\n            :host{\n                @apply --vertical\n            }\n            button{\n                padding: 8px;\n                font-size: large;\n            }\n            .test{\n                --test-background: light-dark(oklch(from var(--main-color) 1 .01 h), oklch(from var(--main-color) l 2 h));\n                --test-color: light-dark(oklch(from var(--main-color) l 2 h), oklch(from var(--main-color) 1 .01 h));\n                \n                background-color: var(--test-background);\n                color: var(--test-color);\n                fill: var(--test-color);\n            }\n        </style>\n        <button ~for=\"vars\" ~class=\"$for.item\">{{$for.item}}</button>\n    `,\n    vars: ['test', 'header', 'dark', 'light']\n    \n})\n\n// Long string: --test-color: light-dark(oklch(from var(--main-color) l 2 h), oklch(from var(--main-color) 1 .01 h)); --test-color: light-dark(oklch(from var(--main-color) l 2 h), oklch(from var(--main-color) 1 .01 h)); --test-color: light-dark(oklch(from var(--main-color) l 2 h), oklch(from var(--main-color) 1 .01 h));\n\nframe(`<oda-color></oda-color>`)"
            ],
            "time": "",
            "state": "",
            "outputs": []
        }
    ]
}
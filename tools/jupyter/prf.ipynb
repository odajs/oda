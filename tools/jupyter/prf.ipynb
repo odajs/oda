{
    "cells": [
        {
            "cell_type": "code",
            "source": [
                "ITERATION_TOTAL = 10000000\n\niterations = ITERATION_TOTAL\nmyArray = Array.from(Array(iterations).keys())\n\ntotal = 0"
            ],
            "metadata": {
                "id": "1558b66a211"
            },
            "time": ""
        },
        {
            "cell_type": "code",
            "source": [
                "const iterations = ITERATION_TOTAL\r\nconst myArray = Array.from(Array(iterations).keys())\r\n\r\nlet total = 0\r\n\r\nconst start = performance.now()\r\n\r\nfor (let i = 0; i < myArray.length; i++) {\r\n  total += myArray[i]\r\n}\r\n\r\nconst end = performance.now()\r\n\r\nprint(`for - ${end - start} ms.`);\r\n"
            ],
            "metadata": {
                "id": "146997c5557"
            },
            "time": ""
        },
        {
            "cell_type": "code",
            "source": [
                "const iterations = ITERATION_TOTAL\r\nconst myArray = Array.from(Array(iterations).keys())\r\n\r\nlet total = 0\r\n\r\nconst start = performance.now()\r\n\r\nlet i = 0\r\n\r\nwhile (i < myArray.length) {\r\n  total += myArray[i]\r\n  i++\r\n}\r\n\r\nconst end = performance.now()\r\n\r\nprint(`while - ${end - start} ms.`);\r\n"
            ],
            "metadata": {
                "id": "ed8d188ffa"
            },
            "time": ""
        },
        {
            "cell_type": "code",
            "source": [
                "const iterations = ITERATION_TOTAL\r\nconst myArray = Array.from(Array(iterations).keys())\r\n\r\nlet total = 0\r\n\r\nconst start = performance.now()\r\nfor (const item of myArray) {\r\n  total += item\r\n}\r\n\r\nconst end = performance.now()\r\n\r\nprint(`for of - ${end - start} ms.`);"
            ],
            "metadata": {
                "id": "cdee3a1452"
            },
            "time": ""
        },
        {
            "cell_type": "code",
            "source": [
                "const iterations = ITERATION_TOTAL\r\nconst myArray = Array.from(Array(iterations).keys())\r\n\r\nlet total = 0\r\n\r\nconst start = performance.now()\r\n\r\nmyArray.forEach((item) => {\r\n  total += item\r\n})\r\n\r\nconst end = performance.now()\r\n\r\nprint(`forEach - ${end - start} ms.`);\r\n"
            ],
            "metadata": {
                "id": "58b0a3c460"
            },
            "time": ""
        },
        {
            "cell_type": "code",
            "source": [
                "const iterations = ITERATION_TOTAL\r\nconst myArray = Array.from(Array(iterations).keys())\r\n\r\nlet total = 0\r\n\r\nconst start = performance.now()\r\n\r\nmyArray.map((item) => {\r\n  total += item\r\n})\r\n\r\nconst end = performance.now()\r\n\r\nprint(`map - ${end - start} ms.`);\r\n"
            ],
            "metadata": {
                "id": "75t4a3c460"
            },
            "time": ""
        }
    ]
}
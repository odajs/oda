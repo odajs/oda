{
    "cells": [
        {
            "cell_type": "code",
            "source": [
                "// 0001\nITERATION_TOTAL = 10000000\n\niterations = ITERATION_TOTAL\n_myArray = Array.from(Array(iterations).keys())\n\ntotal = 0"
            ],
            "metadata": {
                "id": "0001",
                "hideOutput": false
            },
            "time": "366 ms",
            "state": "",
            "outputs": []
        },
        {
            "cell_type": "code",
            "source": [
                "// 0002\nconst myArray = _myArray\r\nlet total = 0\r\n\r\nconst start = performance.now()\r\n\r\nfor (let i = 0; i < myArray.length; i++) {\r\n  total += myArray[i]\r\n}\r\n\r\nconst end = performance.now()\r\n\r\nprint(`for - ${end - start} ms.`);\r\n"
            ],
            "metadata": {
                "id": "0002",
                "hideOutput": false
            },
            "time": "11 ms",
            "state": "",
            "outputs": [
                {
                    "data": {
                        "text/plain": "for - 11.399999976158142 ms."
                    }
                }
            ]
        },
        {
            "cell_type": "code",
            "source": [
                "// 0003\nconst myArray = _myArray\r\nlet total = 0\r\n\r\nconst start = performance.now()\r\n\r\nlet i = 0\r\n\r\nwhile (i < myArray.length) {\r\n  total += myArray[i]\r\n  i++\r\n}\r\n\r\nconst end = performance.now()\r\n\r\nprint(`while - ${end - start} ms.`);\r\n"
            ],
            "metadata": {
                "id": "0003",
                "hideOutput": false
            },
            "time": "11 ms",
            "state": "",
            "outputs": [
                {
                    "data": {
                        "text/plain": "while - 11.400000005960464 ms."
                    }
                }
            ]
        },
        {
            "cell_type": "code",
            "source": [
                "// 0004\nconst myArray = _myArray\r\nlet total = 0\r\n\r\nconst start = performance.now()\r\nfor (const item of myArray) {\r\n  total += item\r\n}\r\n\r\nconst end = performance.now()\r\n\r\nprint(`for of - ${end - start} ms.`);"
            ],
            "metadata": {
                "id": "0004",
                "hideOutput": false
            },
            "time": "123 ms",
            "state": "",
            "outputs": [
                {
                    "data": {
                        "text/plain": "for of - 123.59999999403954 ms."
                    }
                }
            ]
        },
        {
            "cell_type": "code",
            "source": [
                "// 0005\nconst myArray = _myArray\r\nlet total = 0\r\n\r\nconst start = performance.now()\r\n\r\nmyArray.forEach((item) => {\r\n  total += item\r\n})\r\n\r\nconst end = performance.now()\r\n\r\nprint(`forEach - ${end - start} ms.`);\r\n"
            ],
            "metadata": {
                "id": "0005",
                "hideOutput": false
            },
            "time": "156 ms",
            "state": "",
            "outputs": [
                {
                    "data": {
                        "text/plain": "forEach - 156.2999999821186 ms."
                    }
                }
            ]
        },
        {
            "cell_type": "code",
            "source": [
                "// 0006\nconst myArray = _myArray\r\nlet total = 0\r\n\r\nconst start = performance.now()\r\n\r\nmyArray.map((item) => {\r\n  total += item\r\n})\r\n\r\nconst end = performance.now()\r\n\r\nprint(`map - ${end - start} ms.`);\r\n"
            ],
            "metadata": {
                "id": "0006"
            },
            "time": "182 ms",
            "outputs": [
                {
                    "data": {
                        "text/plain": "map - 182.2000000178814 ms."
                    }
                }
            ]
        },
        {
            "cell_type": "code",
            "source": [
                "ODA({ is:'oda-color', \n    template:`\n        <style>\n            :host{\n                @apply --vertical\n            }\n            button{\n                padding: 4px;\n                margin: 1px;\n                font-size: large;\n                width: {{_w}}px;\n                height: {{_h}}px;\n                cursor: pointer;\n            }\n            .test{\n                --test-background: light-dark(oklch(from var(--main-color) 1 .01 h), oklch(from var(--main-color) l 2 h));\n                --test-color: light-dark(oklch(from var(--main-color) l 2 h), oklch(from var(--main-color) 1 .01 h));\n                \n                background-color: var(--test-background);\n                color: var(--test-color);\n                fill: var(--test-color);\n            }\n            h3 {\n                color: red;\n                margin: 0;\n                padding: 0;\n                margin-left: 16px;\n                color: {{color}};\n            }\n        </style>\n        <h3>{{count}}</h3>\n        <div class=\"\"vertical>\n            <button ~for=\"vars\" ~class=\"$for.item\">{{$for.item}}</button>\n        </div>\n    `,\n    vars: ['test', 'header', 'dark', 'light'],\n    count: 0,\n    _h: 40,\n    _w: 120,\n    color: 'red',\n     attached() {\n        top.addEventListener(\"message\", (e) => {\n            if (e.data?.id !== this.id)\n                return;\n            // console.log(this.id, e.data)\n            for (let key in e.data) {\n                this[key] = e.data[key];\n            }\n        })\n    }\n})\n\n// Long string: --test-color: light-dark(oklch(from var(--main-color) l 2 h), oklch(from var(--main-color) 1 .01 h)); --test-color: light-dark(oklch(from var(--main-color) l 2 h), oklch(from var(--main-color) 1 .01 h)); --test-color: light-dark(oklch(from var(--main-color) l 2 h), oklch(from var(--main-color) 1 .01 h));\n\nframe(`<oda-color id=\"oda-color-1\"></oda-color>`)\nframe(`<oda-color id=\"oda-color-2\" color=\"blue\"></oda-color>`)\nframe(`<oda-color id=\"oda-color-3\" color=\"green\"></oda-color>`)\n"
            ]
        },
        {
            "cell_type": "code",
            "source": [
                "max = 200\nmin = 50\ni = 60\nsign = 1\ncount = 0\ni2 = 200\nsign2 = -1\nlet int = setInterval(() => {\n    count += 1;\n    if (count >= max)\n        clearInterval(int);\n    i = i + (sign * 5);\n    i2 = i2 + (sign2 * 20);\n    sign = sign === 1 && i >= max ? -1 : sign === -1 && i <= min ? 1 : sign;\n    sign2 = sign2 === 1 && i2 >= max ? -1 : sign2 === -1 && i2 <= min ? 1 : sign2;\n    top.postMessage({ id: 'oda-color-1', _w: i * 2, count })\n    top.postMessage({ id: 'oda-color-2', _w: i2 * 3, count: max - count })\n    top.postMessage({ id: 'oda-color-3', _h: i * .5, count })\n}, 50)\n"
            ]
        }
    ]
}
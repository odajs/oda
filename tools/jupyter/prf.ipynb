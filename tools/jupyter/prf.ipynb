{
    "cells": [
        {
            "cell_type": "code",
            "source": [
                "// 0001\nITERATION_TOTAL = 10000000\n\niterations = ITERATION_TOTAL\n_myArray = Array.from(Array(iterations).keys())\n\ntotal = 0"
            ],
            "metadata": {
                "id": "0001",
                "hideOutput": false
            },
            "time": "",
            "state": "",
            "outputs": []
        },
        {
            "cell_type": "code",
            "source": [
                "// 0002\nconst myArray = _myArray\r\nlet total = 0\r\n\r\nconst start = performance.now()\r\n\r\nfor (let i = 0; i < myArray.length; i++) {\r\n  total += myArray[i]\r\n}\r\n\r\nconst end = performance.now()\r\n\r\nprint(`for - ${end - start} ms.`);\r\n"
            ],
            "metadata": {
                "id": "0002",
                "hideOutput": false
            },
            "time": "",
            "state": "",
            "outputs": [
                {
                    "data": {
                        "text/plain": "for - 11.299999999813735 ms."
                    }
                }
            ]
        },
        {
            "cell_type": "code",
            "source": [
                "// 0003\nconst myArray = _myArray\r\nlet total = 0\r\n\r\nconst start = performance.now()\r\n\r\nlet i = 0\r\n\r\nwhile (i < myArray.length) {\r\n  total += myArray[i]\r\n  i++\r\n}\r\n\r\nconst end = performance.now()\r\n\r\nprint(`while - ${end - start} ms.`);\r\n"
            ],
            "metadata": {
                "id": "0003",
                "hideOutput": false
            },
            "time": "",
            "state": "",
            "outputs": [
                {
                    "data": {
                        "text/plain": "while - 11.200000000186265 ms."
                    }
                }
            ]
        },
        {
            "cell_type": "code",
            "source": [
                "// 0004\nconst myArray = _myArray\r\nlet total = 0\r\n\r\nconst start = performance.now()\r\nfor (const item of myArray) {\r\n  total += item\r\n}\r\n\r\nconst end = performance.now()\r\n\r\nprint(`for of - ${end - start} ms.`);"
            ],
            "metadata": {
                "id": "0004",
                "hideOutput": false
            },
            "time": "",
            "state": "",
            "outputs": [
                {
                    "data": {
                        "text/plain": "for of - 125.5 ms."
                    }
                }
            ]
        },
        {
            "cell_type": "code",
            "source": [
                "// 0005\nconst myArray = _myArray\r\nlet total = 0\r\n\r\nconst start = performance.now()\r\n\r\nmyArray.forEach((item) => {\r\n  total += item\r\n})\r\n\r\nconst end = performance.now()\r\n\r\nprint(`forEach - ${end - start} ms.`);\r\n"
            ],
            "metadata": {
                "id": "0005",
                "hideOutput": false
            },
            "time": "",
            "state": "",
            "outputs": [
                {
                    "data": {
                        "text/plain": "forEach - 142.5 ms."
                    }
                }
            ]
        },
        {
            "cell_type": "code",
            "source": [
                "// 0006\nconst myArray = _myArray\r\nlet total = 0\r\n\r\nconst start = performance.now()\r\n\r\nmyArray.map((item) => {\r\n  total += item\r\n})\r\n\r\nconst end = performance.now()\r\n\r\nprint(`map - ${end - start} ms.`);\r\n"
            ],
            "metadata": {
                "id": "0006"
            },
            "time": "",
            "outputs": [
                {
                    "data": {
                        "text/plain": "map - 192.40000000037253 ms."
                    }
                }
            ]
        },
        {
            "cell_type": "code",
            "source": [
                "ODA({is:'oda-color', \n    template:`\n        <style>\n            :host{\n                @apply --vertical\n            }\n            button{\n                padding: 8px;\n                font-size: large;\n            }\n            .test{\n                --test-background: light-dark(oklch(from var(--main-color) 1 .01 h), oklch(from var(--main-color) l 2 h));\n                --test-color: light-dark(oklch(from var(--main-color) l 2 h), oklch(from var(--main-color) 1 .01 h));\n                \n                background-color: var(--test-background);\n                color: var(--test-color);\n                fill: var(--test-color);\n            }\n        </style>\n        <button ~for=\"vars\" ~class=\"$for.item\">{{$for.item}}</button>\n    `,\n    vars: ['test', 'header', 'dark', 'light']\n    \n})\n>this.createElement('oda-color')\n>this.createElement('oda-color')"
            ],
            "metadata": {
                "id": "159708485e8"
            },
            "time": ""
        }
    ]
}
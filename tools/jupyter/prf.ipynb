{
    "cells": [
        {
            "cell_type": "code",
            "source": [
                "// 0001\nITERATION_TOTAL = 1000000\n\niterations = ITERATION_TOTAL\n_myArray = Array.from(Array(iterations).keys())\n\ntotal = 0"
            ],
            "metadata": {
                "id": "0001",
                "hideOutput": false
            },
            "time": "29 ms",
            "state": "",
            "outputs": []
        },
        {
            "cell_type": "code",
            "source": [
                "// 0002\nconst myArray = _myArray\nlet total = 0\n\nconst start = performance.now()\n\nfor (let i = 0; i < myArray.length; i++) {\n  total += myArray[i]\n}\n\nconst end = performance.now()\n\n>tm_for = `for - ${Math.round(end - start)} ms.`;\n"
            ],
            "metadata": {
                "id": "0002",
                "hideOutput": false
            },
            "time": "3 ms",
            "state": "",
            "outputs": [
                {
                    "data": {
                        "text/plain": "<label bold onclick='_findCodeEntry(this)' style='text-decoration: underline; padding: 2px; font-size: large; margin-bottom: 4px; cursor: pointer; color: -webkit-link'>tm_for = `for - ${Math.round(end - start)} ms.`</label>for - 3 ms."
                    }
                }
            ]
        },
        {
            "cell_type": "code",
            "source": [
                "// 0003\nconst myArray = _myArray\nlet total = 0\n\nconst start = performance.now()\n\nlet i = 0\n\nwhile (i < myArray.length) {\n  total += myArray[i]\n  i++\n}\n\nconst end = performance.now()\n\n>tm_while = `while - ${Math.round(end - start)} ms.`;\n"
            ],
            "metadata": {
                "id": "0003",
                "hideOutput": false
            },
            "time": "4 ms",
            "state": "",
            "outputs": [
                {
                    "data": {
                        "text/plain": "<label bold onclick='_findCodeEntry(this)' style='text-decoration: underline; padding: 2px; font-size: large; margin-bottom: 4px; cursor: pointer; color: -webkit-link'>tm_while = `while - ${Math.round(end - start)} ms.`</label>while - 4 ms."
                    }
                }
            ]
        },
        {
            "cell_type": "code",
            "source": [
                "// 0004\nconst myArray = _myArray\nlet total = 0\n\nconst start = performance.now()\nfor (const item of myArray) {\n  total += item\n}\n\nconst end = performance.now()\n\n>tm_forOf = `for of - ${Math.round(end - start)} ms.`;\n"
            ],
            "metadata": {
                "id": "0004",
                "hideOutput": false
            },
            "time": "18 ms",
            "state": "",
            "outputs": [
                {
                    "data": {
                        "text/plain": "<label bold onclick='_findCodeEntry(this)' style='text-decoration: underline; padding: 2px; font-size: large; margin-bottom: 4px; cursor: pointer; color: -webkit-link'>tm_forOf = `for of - ${Math.round(end - start)} ms.`</label>for of - 18 ms."
                    }
                }
            ]
        },
        {
            "cell_type": "code",
            "source": [
                "// 0005\nconst myArray = _myArray\nlet total = 0\n\nconst start = performance.now()\n\nmyArray.forEach((item) => {\n  total += item\n})\n\nconst end = performance.now()\n\n>tm_forEach = `forEach - ${Math.round(end - start)} ms.`;\n"
            ],
            "metadata": {
                "id": "0005",
                "hideOutput": false
            },
            "time": "10 ms",
            "state": "",
            "outputs": [
                {
                    "data": {
                        "text/plain": "<label bold onclick='_findCodeEntry(this)' style='text-decoration: underline; padding: 2px; font-size: large; margin-bottom: 4px; cursor: pointer; color: -webkit-link'>tm_forEach = `forEach - ${Math.round(end - start)} ms.`</label>forEach - 11 ms."
                    }
                }
            ]
        },
        {
            "cell_type": "code",
            "source": [
                "// 0006\nconst myArray = _myArray\nlet total = 0\n\nconst start = performance.now()\n\nmyArray.map((item) => {\n  total += item\n})\n\nconst end = performance.now()\n\n>tm_map = `map - ${Math.round(end - start)} ms.`;\n\n\n\n\n\n\n\n\n// Long string: --test-color: light-dark(oklch(from var(--main-color) l 2 h), oklch(from var(--main-color) 1 .01 h)); --test-color: light-dark(oklch(from var(--main-color) l 2 h), oklch(from var(--main-color) 1 .01 h)); --test-color: light-dark(oklch(from var(--main-color) l 2 h), oklch(from var(--main-color) 1 .01 h));\n\n\n\n\n\n\n\n"
            ],
            "metadata": {
                "id": "0006"
            },
            "time": "14 ms",
            "outputs": [
                {
                    "data": {
                        "text/plain": "<label bold onclick='_findCodeEntry(this)' style='text-decoration: underline; padding: 2px; font-size: large; margin-bottom: 4px; cursor: pointer; color: -webkit-link'>tm_map = `map - ${Math.round(end - start)} ms.`</label>map - 14 ms."
                    }
                }
            ],
            "state": ""
        },
        {
            "cell_type": "code",
            "source": [
                "ODA({ is:'oda-color', template: `\n        <style>\n            :host { @apply --vertical }\n            button { padding: 4px;  margin: 1px; font-size: large; width: {{_w}}px; height: {{_h}}px; cursor: pointer; }\n            .test {\n                --test-background: light-dark(oklch(from var(--main-color) 1 .01 h), oklch(from var(--main-color) l 2 h));\n                --test-color: light-dark(oklch(from var(--main-color) l 2 h), oklch(from var(--main-color) 1 .01 h));\n                background-color: var(--test-background);\n                color: var(--test-color);\n                fill: var(--test-color);\n            }\n            h3 { color: red; margin: 0; padding: 0; margin-left: 16px; color: {{color}}; }\n        </style>\n        <h3>{{count}}</h3>\n        <div vertical>\n            <button ~for=\"vars\" ~class=\"$for.item\">{{$for.item}}</button>\n        </div>\n    `,\n    vars: ['test', 'header', 'dark', 'light'], count: 0, _h: 40, _w: 120, color: 'red'\n})\n\ncreate(`<oda-color id=\"_cl1\"></oda-color>`)\ncreate(`<oda-color id=\"_cl2\" color=\"blue\"></oda-color>`)\ncreate(`<oda-color id=\"_cl3\" color=\"green\"></oda-color>`)"
            ]
        },
        {
            "cell_type": "code",
            "source": [
                "max = 200; min = 50; i = 60; sign = 1; count = 0; i2 = 200; sign2 = -1;\nlet int = setInterval(() => {\n    count += 1;\n    if (count >= max)\n        clearInterval(int);\n    i = i + (sign * 5);\n    i2 = i2 + (sign2 * 20);\n    sign = sign === 1 && i >= max ? -1 : sign === -1 && i <= min ? 1 : sign;\n    sign2 = sign2 === 1 && i2 >= max ? -1 : sign2 === -1 && i2 <= min ? 1 : sign2;\n    _cl1._w = i * 2; _cl1.count = count;\n    _cl2._w = i2 * 3; _cl2.count = max - count;\n    _cl3._h = i * .5; _cl3.count = count;\n}, 50)"
            ]
        }
    ]
}
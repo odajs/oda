{
    "cells": [
        {
            "cell_type": "code",
            "source": [
                "// 0001\nITERATION_TOTAL = 10000000\n\niterations = ITERATION_TOTAL\n_myArray = Array.from(Array(iterations).keys())\n\ntotal = 0"
            ],
            "metadata": {
                "id": "0001",
                "hideOutput": false
            },
            "time": "",
            "state": "",
            "outputs": []
        },
        {
            "cell_type": "code",
            "source": [
                "// 0002\nconst myArray = _myArray\r\nlet total = 0\r\n\r\nconst start = performance.now()\r\n\r\nfor (let i = 0; i < myArray.length; i++) {\r\n  total += myArray[i]\r\n}\r\n\r\nconst end = performance.now()\r\n\r\nprint(`for - ${end - start} ms.`);\r\n"
            ],
            "metadata": {
                "id": "0002",
                "hideOutput": false
            },
            "time": "",
            "state": "",
            "outputs": [
                {
                    "data": {
                        "text/plain": "for - 11.800000011920929 ms."
                    }
                }
            ]
        },
        {
            "cell_type": "code",
            "source": [
                "// 0003\nconst myArray = _myArray\r\nlet total = 0\r\n\r\nconst start = performance.now()\r\n\r\nlet i = 0\r\n\r\nwhile (i < myArray.length) {\r\n  total += myArray[i]\r\n  i++\r\n}\r\n\r\nconst end = performance.now()\r\n\r\nprint(`while - ${end - start} ms.`);\r\n"
            ],
            "metadata": {
                "id": "0003",
                "hideOutput": false
            },
            "time": "",
            "state": "",
            "outputs": [
                {
                    "data": {
                        "text/plain": "while - 11.400000005960464 ms."
                    }
                }
            ]
        },
        {
            "cell_type": "code",
            "source": [
                "// 0004\nconst myArray = _myArray\r\nlet total = 0\r\n\r\nconst start = performance.now()\r\nfor (const item of myArray) {\r\n  total += item\r\n}\r\n\r\nconst end = performance.now()\r\n\r\nprint(`for of - ${end - start} ms.`);"
            ],
            "metadata": {
                "id": "0004",
                "hideOutput": false
            },
            "time": "",
            "state": "",
            "outputs": [
                {
                    "data": {
                        "text/plain": "for of - 124.2999999821186 ms."
                    }
                }
            ]
        },
        {
            "cell_type": "code",
            "source": [
                "// 0005\nconst myArray = _myArray\r\nlet total = 0\r\n\r\nconst start = performance.now()\r\n\r\nmyArray.forEach((item) => {\r\n  total += item\r\n})\r\n\r\nconst end = performance.now()\r\n\r\nprint(`forEach - ${end - start} ms.`);\r\n"
            ],
            "metadata": {
                "id": "0005",
                "hideOutput": false
            },
            "time": "",
            "state": "",
            "outputs": [
                {
                    "data": {
                        "text/plain": "forEach - 143.5 ms."
                    }
                }
            ]
        },
        {
            "cell_type": "code",
            "source": [
                "// 0006\nconst myArray = _myArray\nlet total = 0\n\nconst start = performance.now()\n\nmyArray.map((item) => {\n  total += item\n})\n\nconst end = performance.now()\n\nprint(`map - ${end - start} ms.`);\n\n\n\n\n\n\n\n\n// Long string: --test-color: light-dark(oklch(from var(--main-color) l 2 h), oklch(from var(--main-color) 1 .01 h)); --test-color: light-dark(oklch(from var(--main-color) l 2 h), oklch(from var(--main-color) 1 .01 h)); --test-color: light-dark(oklch(from var(--main-color) l 2 h), oklch(from var(--main-color) 1 .01 h));\n\n\n\n\n\n\n\n"
            ],
            "metadata": {
                "id": "0006"
            },
            "time": "",
            "outputs": [
                {
                    "data": {
                        "text/plain": "map - 191.7999999821186 ms."
                    }
                }
            ]
        },
        {
            "cell_type": "code",
            "source": [
                "ODA({ is:'oda-color', template: `\n        <style>\n            :host { @apply --vertical }\n            button { padding: 4px;  margin: 1px; font-size: large; width: {{_w}}px; height: {{_h}}px; cursor: pointer; }\n            .test {\n                --test-background: light-dark(oklch(from var(--main-color) 1 .01 h), oklch(from var(--main-color) l 2 h));\n                --test-color: light-dark(oklch(from var(--main-color) l 2 h), oklch(from var(--main-color) 1 .01 h));\n                background-color: var(--test-background);\n                color: var(--test-color);\n                fill: var(--test-color);\n            }\n            h3 { color: red; margin: 0; padding: 0; margin-left: 16px; color: {{color}}; }\n        </style>\n        <h3>{{count}}</h3>\n        <div vertical>\n            <button ~for=\"vars\" ~class=\"$for.item\">{{$for.item}}</button>\n        </div>\n    `,\n    vars: ['test', 'header', 'dark', 'light'], count: 0, _h: 40, _w: 120, color: 'red'\n})\n\nframe(`<oda-color id=\"oda-color-1\"></oda-color>`)\nframe(`<oda-color id=\"oda-color-2\" color=\"blue\"></oda-color>`)\nframe(`<oda-color id=\"oda-color-3\" color=\"green\"></oda-color>`)"
            ]
        },
        {
            "cell_type": "code",
            "source": [
                "max = 200; min = 50; i = 60; sign = 1; count = 0; i2 = 200; sign2 = -1;\nlet int = setInterval(() => {\n    count += 1;\n    if (count >= max)\n        clearInterval(int);\n    i = i + (sign * 5);\n    i2 = i2 + (sign2 * 20);\n    sign = sign === 1 && i >= max ? -1 : sign === -1 && i <= min ? 1 : sign;\n    sign2 = sign2 === 1 && i2 >= max ? -1 : sign2 === -1 && i2 <= min ? 1 : sign2;\n    top.postMessage({ id: 'oda-color-1', _w: i * 2, count })\n    top.postMessage({ id: 'oda-color-2', _w: i2 * 3, count: max - count })\n    top.postMessage({ id: 'oda-color-3', _h: i * .5, count })\n}, 50)"
            ]
        }
    ]
}
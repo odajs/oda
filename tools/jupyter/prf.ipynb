{
    "cells": [
        {
            "cell_type": "code",
            "source": [
                "// 0001\nITERATION_TOTAL = 10000000\n\niterations = ITERATION_TOTAL\n_myArray = Array.from(Array(iterations).keys())\n\ntotal = 0"
            ],
            "metadata": {
                "id": "0001",
                "hideOutput": false
            },
            "time": "369 ms",
            "state": "",
            "outputs": []
        },
        {
            "cell_type": "code",
            "source": [
                "// 0002\nconst myArray = _myArray\r\nlet total = 0\r\n\r\nconst start = performance.now()\r\n\r\nfor (let i = 0; i < myArray.length; i++) {\r\n  total += myArray[i]\r\n}\r\n\r\nconst end = performance.now()\r\n\r\nprint(`for - ${end - start} ms.`);\r\n"
            ],
            "metadata": {
                "id": "0002",
                "hideOutput": false
            },
            "time": "12 ms",
            "state": "",
            "outputs": [
                {
                    "data": {
                        "text/plain": "for - 11.5 ms."
                    }
                }
            ]
        },
        {
            "cell_type": "code",
            "source": [
                "// 0003\nconst myArray = _myArray\r\nlet total = 0\r\n\r\nconst start = performance.now()\r\n\r\nlet i = 0\r\n\r\nwhile (i < myArray.length) {\r\n  total += myArray[i]\r\n  i++\r\n}\r\n\r\nconst end = performance.now()\r\n\r\nprint(`while - ${end - start} ms.`);\r\n"
            ],
            "metadata": {
                "id": "0003",
                "hideOutput": false
            },
            "time": "12 ms",
            "state": "",
            "outputs": [
                {
                    "data": {
                        "text/plain": "while - 11.199999988079071 ms."
                    }
                }
            ]
        },
        {
            "cell_type": "code",
            "source": [
                "// 0004\nconst myArray = _myArray\r\nlet total = 0\r\n\r\nconst start = performance.now()\r\nfor (const item of myArray) {\r\n  total += item\r\n}\r\n\r\nconst end = performance.now()\r\n\r\nprint(`for of - ${end - start} ms.`);"
            ],
            "metadata": {
                "id": "0004",
                "hideOutput": false
            },
            "time": "125 ms",
            "state": "",
            "outputs": [
                {
                    "data": {
                        "text/plain": "for of - 124.5 ms."
                    }
                }
            ]
        },
        {
            "cell_type": "code",
            "source": [
                "// 0005\nconst myArray = _myArray\r\nlet total = 0\r\n\r\nconst start = performance.now()\r\n\r\nmyArray.forEach((item) => {\r\n  total += item\r\n})\r\n\r\nconst end = performance.now()\r\n\r\nprint(`forEach - ${end - start} ms.`);\r\n"
            ],
            "metadata": {
                "id": "0005",
                "hideOutput": false
            },
            "time": "164 ms",
            "state": "",
            "outputs": [
                {
                    "data": {
                        "text/plain": "forEach - 163.7000000178814 ms."
                    }
                }
            ]
        },
        {
            "cell_type": "code",
            "source": [
                "// 0006\nconst myArray = _myArray\r\nlet total = 0\r\n\r\nconst start = performance.now()\r\n\r\nmyArray.map((item) => {\r\n  total += item\r\n})\r\n\r\nconst end = performance.now()\r\n\r\nprint(`map - ${end - start} ms.`);\r\n"
            ],
            "metadata": {
                "id": "0006"
            },
            "time": "264 ms",
            "outputs": [
                {
                    "data": {
                        "text/plain": "map - 263.80000001192093 ms."
                    }
                }
            ]
        },
        {
            "cell_type": "code",
            "source": [
                "ODA({ is:'oda-color', \n    template:`\n        <style>\n            :host{\n                @apply --vertical\n            }\n            button{\n                padding: 8px;\n                margin: 8px;\n                font-size: large;\n                height: {{_h}}px;\n                cursor: pointer;\n            }\n            .test{\n                --test-background: light-dark(oklch(from var(--main-color) 1 .01 h), oklch(from var(--main-color) l 2 h));\n                --test-color: light-dark(oklch(from var(--main-color) l 2 h), oklch(from var(--main-color) 1 .01 h));\n                \n                background-color: var(--test-background);\n                color: var(--test-color);\n                fill: var(--test-color);\n            }\n            h3 {\n                color: red;\n                margin-left: 16px;\n            }\n        </style>\n        <h3>{{count}}</h3>\n        <button ~for=\"vars\" ~class=\"$for.item\">{{$for.item}}</button>\n    `,\n    vars: ['test', 'header', 'dark', 'light'],\n    count: 0,\n    _h: 40,\n    attached() {\n        top.addEventListener(\"message\", (e) => {\n            // console.log(e.data)\n            for (let key in e.data) {\n                this[key] = e.data[key];\n            }\n        })\n    }\n})\n\n// Long string: --test-color: light-dark(oklch(from var(--main-color) l 2 h), oklch(from var(--main-color) 1 .01 h)); --test-color: light-dark(oklch(from var(--main-color) l 2 h), oklch(from var(--main-color) 1 .01 h)); --test-color: light-dark(oklch(from var(--main-color) l 2 h), oklch(from var(--main-color) 1 .01 h));\n\nframe(`<oda-color></oda-color>`)\n"
            ]
        },
        {
            "cell_type": "code",
            "source": [
                "i = 40\nsign = -1\ncount = 0\nlet int = setInterval(() => {\n    count += 1;\n    if (count >= 500)\n        clearInterval(int);\n    i = i + (sign * 10);\n    // console.log(i)\n    sign = sign === 1 && i >= 200 ? -1 : sign === -1 && i <= 40 ? 1 : sign;\n    top.postMessage({ _h: i, count })\n}, 20)"
            ]
        }
    ]
}
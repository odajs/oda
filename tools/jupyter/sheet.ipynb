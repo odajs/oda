{
    "cells": [
        {
            "cell_type": "sheet",
            "source": [
                "[{\"minDimensions\":[5,1],\"worksheetName\":\"Sheet1\",\"columns\":[{\"type\":\"dropdown\",\"source\":[\"111\",\"222\"]},{},{},{},{\"title\":\"Сумма = A1+B1+C1+D1\",\"width\":278}],\"data\":[[\"111\",\"222\",\"333\",\"4444\",\"=A1+B1+C1+D1\"]],\"style\":{\"A1\":\"text-align: center; overflow: hidden; font-weight: bold; color: rgb(244, 67, 54);\",\"B1\":\"text-align: center; overflow: hidden;\",\"C1\":\"text-align: center; overflow: hidden;\",\"D1\":\"text-align: center; overflow: hidden;\",\"E1\":\"text-align: center; color: rgb(30, 136, 229); font-weight: bold;\"}}]"
            ],
            "metadata": {
                "height": 160,
                "id": "16dcayu77ce"
            },
            "time": ""
        },
        {
            "cell_type": "sheet",
            "source": [
                "[{\"data\":[[\"001\",\"text-1\",1234567.8,\"hidden\",\"audi\",false,true,\"\",\"\",\"#ff0000\",\"<h3 style=\\\"color: blue\\\">h3</h3>\",\"readonly\"],[\"002\",\"text-2\",0.9,\"hidden\",\"bmw\",true,false,\"\",\"\",\"#00ff00\",\"<a href=\\\"https://odajs.org/\\\" target=\\\"blank\\\">visit to odajs.org !</a>\",\"readonly\"]],\"columns\":[{\"title\":\"dropdown-1\",\"type\":\"dropdown\",\"source\":[\"001\",\"002\",\"003\"]},{\"title\":\"text\",\"type\":\"text\"},{\"title\":\"numeric\",\"type\":\"numeric\",\"mask\":\"# ##0,00\"},{\"title\":\"hidden\",\"type\":\"hidden\"},{\"title\":\"dropdown-2\",\"type\":\"dropdown\",\"source\":[\"audi\",\"bmw\",\"honda\"]},{\"title\":\"checkbox\",\"type\":\"checkbox\"},{\"title\":\"radio\",\"type\":\"radio\"},{\"title\":\"calendar\",\"type\":\"calendar\"},{\"title\":\"image\",\"type\":\"image\"},{\"title\":\"color\",\"type\":\"color\",\"render\":\"square\"},{\"title\":\"html\",\"type\":\"html\"}]}]"
            ],



            "metadata": {
                "height": 360,
                "id": "16dca8de7ce"
            },
            "time": ""
        }
    ],
    "hiddenErrors": []
}